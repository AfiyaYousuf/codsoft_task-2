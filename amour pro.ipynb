{
 "cells": [
  {
   "cell_type": "code",
   "execution_count": 1,
   "id": "bd62ce86",
   "metadata": {},
   "outputs": [
    {
     "name": "stdout",
     "output_type": "stream",
     "text": [
      "you: hi\n",
      "Hello! How are you feeling today?\n",
      "you: bad\n",
      "What specific symptoms are you experiencing?\n",
      "you: headache\n",
      "I'm sorry to hear that! Headaches can be really uncomfortable. Take rest and stay hydrated. It's important to consult with a healthcare professional.\n",
      "you: ok\n",
      "Goodbye! Have a great day!\n"
     ]
    }
   ],
   "source": [
    "import pyttsx3\n",
    "\n",
    "def talk(text):\n",
    "    engine = pyttsx3.init()\n",
    "    voices = engine.getProperty('voices')\n",
    "    engine.setProperty('voice', voices[1].id)\n",
    "    engine.say(text)\n",
    "    engine.runAndWait()\n",
    "\n",
    "talk(\"Hey I am amour your health assistant\")\n",
    "\n",
    "def amour(user_input):\n",
    "    \n",
    "    user_input = user_input.lower()\n",
    "    \n",
    "    # Greetings\n",
    "    if user_input in [\"hi\", \"hello\", \"hey\"]:\n",
    "        print(\"Hello! How are you feeling today?\")\n",
    "        talk(\"Hello! How are you feeling today?\")\n",
    "    \n",
    "    # Farewells\n",
    "    elif user_input in [\"ok\",\"bye\", \"goodbye\", \"see you\"]:\n",
    "        print(\"Goodbye! Have a great day!\")\n",
    "        talk(\"Goodbye! Have a great day!\")\n",
    "    \n",
    "    # Simple questions\n",
    "    elif user_input in [\"ill\", \"bad\", \"unwell\", \"sick\"]:\n",
    "        print(\"What specific symptoms are you experiencing?\")\n",
    "        talk(\"What specific symptoms are you experiencing?\")\n",
    "    elif \"headache\" in user_input:\n",
    "        print(\"I'm sorry to hear that! Headaches can be really uncomfortable. Take rest and stay hydrated. It's important to consult with a healthcare professional.\")\n",
    "        talk(\"I'm sorry to hear that! Headaches can be really uncomfortable. Take rest and stay hydrated. It's important to consult with a healthcare professional.\")\n",
    "    elif \"cough\" in user_input:\n",
    "        print(\"I'm sorry to hear that! Have some warm fluids or steam inhalation. It's important to consult with a healthcare professional.\")\n",
    "        talk(\"I'm sorry to hear that! Have some warm fluids or steam inhalation. It's important to consult with a healthcare professional.\")\n",
    "    elif \"stomach cramp\" in user_input:\n",
    "        print(\"I'm sorry to hear that! Applying a heating pad or a warm towel to the abdomen or Ensure you're drinking enough water. It's important to consult with a healthcare professional.\")\n",
    "        talk(\"I'm sorry to hear that! Applying a heating pad or a warm towel to the abdomen or Ensure you're drinking enough water. It's important to consult with a healthcare professional.\")\n",
    "    \n",
    "    # Default response\n",
    "    else:\n",
    "        return \"I'm not sure how to respond to that. Could you please rephrase?\"\n",
    "\n",
    "while True:\n",
    "    user_input = input(\"you: \")\n",
    "    if user_input.lower() in [\"ok\", \"bye\", \"goodbye\", \"see you\"]:\n",
    "        amour(user_input)\n",
    "        break\n",
    "    else:\n",
    "        amour(user_input)\n"
   ]
  },
  {
   "cell_type": "code",
   "execution_count": null,
   "id": "3a48ef05",
   "metadata": {},
   "outputs": [],
   "source": []
  },
  {
   "cell_type": "code",
   "execution_count": null,
   "id": "14253f8b",
   "metadata": {},
   "outputs": [],
   "source": []
  },
  {
   "cell_type": "code",
   "execution_count": null,
   "id": "58433f6b",
   "metadata": {},
   "outputs": [],
   "source": []
  }
 ],
 "metadata": {
  "kernelspec": {
   "display_name": "Python 3 (ipykernel)",
   "language": "python",
   "name": "python3"
  },
  "language_info": {
   "codemirror_mode": {
    "name": "ipython",
    "version": 3
   },
   "file_extension": ".py",
   "mimetype": "text/x-python",
   "name": "python",
   "nbconvert_exporter": "python",
   "pygments_lexer": "ipython3",
   "version": "3.10.9"
  }
 },
 "nbformat": 4,
 "nbformat_minor": 5
}
